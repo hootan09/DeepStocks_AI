{
 "cells": [
  {
   "cell_type": "code",
   "execution_count": 1,
   "id": "cf0f8309-8a65-44a9-bbe6-f06a0e7c329b",
   "metadata": {},
   "outputs": [],
   "source": [
    "import torch\n",
    "import torch.nn as nn\n",
    "import torch.optim as optim\n",
    "from torch.utils.data import Dataset, DataLoader\n",
    "import pandas as pd\n",
    "import numpy as np\n",
    "from sklearn.preprocessing import StandardScaler\n",
    "from transformers import AutoTokenizer, AutoModel\n",
    "\n",
    "from ta.momentum import RSIIndicator\n",
    "from ta.trend import MACD\n",
    "from ta.volatility import BollingerBands\n",
    "from ta.volume import VolumeWeightedAveragePrice\n",
    "\n",
    "import yfinance as yf\n",
    "from datetime import datetime, timedelta\n",
    "import random\n",
    "from tqdm.auto import tqdm\n",
    "import warnings\n",
    "import fastapi\n",
    "import uvicorn\n",
    "from fastapi import FastAPI, HTTPException\n",
    "from pydantic import BaseModel\n",
    "import os"
   ]
  },
  {
   "cell_type": "code",
   "execution_count": 44,
   "id": "7240b275-9fd6-4945-a4b8-a9a87b097f28",
   "metadata": {},
   "outputs": [
    {
     "name": "stdout",
     "output_type": "stream",
     "text": [
      "Using device: cpu\n"
     ]
    }
   ],
   "source": [
    "warnings.filterwarnings('ignore')\n",
    "device = torch.device('cuda' if torch.cuda.is_available() else 'cpu')\n",
    "print(f\"Using device: {device}\")"
   ]
  },
  {
   "cell_type": "code",
   "execution_count": 45,
   "id": "a84d0075-058e-49d4-9232-cda144ea8c80",
   "metadata": {},
   "outputs": [
    {
     "name": "stdout",
     "output_type": "stream",
     "text": [
      "Data loaded from stock_data.csv\n",
      "         Date              Close               High                Low  \\\n",
      "1  2020-01-02    72.620849609375  72.68129646149221  71.37322569622376   \n",
      "2  2020-01-03  71.91483306884766  72.67646199266805   71.6899725313061   \n",
      "3  2020-01-06  72.48785400390625  72.52654087038833  70.78325591626742   \n",
      "4  2020-01-07  72.14693450927734  72.75381577050801   71.9269071243437   \n",
      "5  2020-01-08   73.3075180053711  73.60975223726805  71.84954036585081   \n",
      "\n",
      "                Open     Volume ticker  \n",
      "1   71.6270995236096  135480400   AAPL  \n",
      "2  71.84713288403621  146322800   AAPL  \n",
      "3  71.03471685901826  118387200   AAPL  \n",
      "4  72.49752175701711  108872000   AAPL  \n",
      "5  71.84954036585081  132079200   AAPL  \n"
     ]
    }
   ],
   "source": [
    "# download stocks price data \n",
    "tickers = ['AAPL']\n",
    "start_date = \"2020-01-01\"\n",
    "end_date = datetime.now().strftime(\"%Y-%m-%d\")\n",
    "\n",
    "# File path where data will be saved\n",
    "data_file = 'stock_data.csv'  # or 'stock_data.parquet'\n",
    "\n",
    "# Check if file already exists\n",
    "if not os.path.exists(data_file):\n",
    "    # Download data if file doesn't exist\n",
    "    price_data = {}\n",
    "    for ticker in tickers:\n",
    "        df = yf.download(ticker, start=start_date, end=end_date)\n",
    "        df['ticker'] = ticker\n",
    "        price_data[ticker] = df.reset_index()\n",
    "    \n",
    "    # Combine all ticker data into one DataFrame\n",
    "    all_data = pd.concat(price_data.values())\n",
    "    \n",
    "    # Save to file\n",
    "    # For CSV:\n",
    "    all_data.to_csv(data_file, index=False)\n",
    "    \n",
    "    # For Parquet (more efficient):\n",
    "    # all_data.to_parquet(data_file, index=False)\n",
    "    \n",
    "    print(f\"Data downloaded and saved to {data_file}\")\n",
    "else:\n",
    "    # Load data from file\n",
    "    # For CSV:\n",
    "    all_data = pd.read_csv(data_file)\n",
    "    # For Parquet:\n",
    "    # all_data = pd.read_parquet(data_file)\n",
    "    \n",
    "    # Split back into ticker dictionary if needed\n",
    "    price_data = {ticker: all_data[all_data['ticker'] == ticker] for ticker in all_data['ticker'].unique()}\n",
    "    \n",
    "    print(f\"Data loaded from {data_file}\")\n",
    "\n",
    "# Now you can use price_data as before\n",
    "print(price_data['AAPL'].head())\n"
   ]
  },
  {
   "cell_type": "code",
   "execution_count": 46,
   "id": "a32080a2-2894-4fe9-b755-030a3a84f98b",
   "metadata": {},
   "outputs": [
    {
     "name": "stdout",
     "output_type": "stream",
     "text": [
      "Date      object\n",
      "Close     object\n",
      "High      object\n",
      "Low       object\n",
      "Open      object\n",
      "Volume    object\n",
      "ticker    object\n",
      "dtype: object\n",
      "         Date              Close               High                Low  \\\n",
      "1  2020-01-02    72.620849609375  72.68129646149221  71.37322569622376   \n",
      "2  2020-01-03  71.91483306884766  72.67646199266805   71.6899725313061   \n",
      "3  2020-01-06  72.48785400390625  72.52654087038833  70.78325591626742   \n",
      "4  2020-01-07  72.14693450927734  72.75381577050801   71.9269071243437   \n",
      "5  2020-01-08   73.3075180053711  73.60975223726805  71.84954036585081   \n",
      "\n",
      "                Open     Volume ticker  \n",
      "1   71.6270995236096  135480400   AAPL  \n",
      "2  71.84713288403621  146322800   AAPL  \n",
      "3  71.03471685901826  118387200   AAPL  \n",
      "4  72.49752175701711  108872000   AAPL  \n",
      "5  71.84954036585081  132079200   AAPL  \n"
     ]
    }
   ],
   "source": [
    "print(price_data['AAPL'].dtypes)\n",
    "print(price_data['AAPL'].head())"
   ]
  },
  {
   "cell_type": "code",
   "execution_count": 47,
   "id": "6ab0f425-ece4-4f83-b077-71faf2691971",
   "metadata": {},
   "outputs": [
    {
     "name": "stdout",
     "output_type": "stream",
     "text": [
      "            Date       Close        High         Low        Open    Volume  \\\n",
      "1397  2025-07-24  213.759995  215.690002  213.529999  213.899994  46022600   \n",
      "1398  2025-07-25  213.880005  215.240005  213.399994  214.699997  40268800   \n",
      "1399  2025-07-28  214.050003  214.850006  213.059998  214.029999  37858000   \n",
      "1400  2025-07-29  211.270004  214.809998  210.820007  214.179993  51411700   \n",
      "1401  2025-07-30  209.050003  212.389999  207.720001  211.899994  43797200   \n",
      "\n",
      "     ticker        RSI      MACD  MACD_Signal  MACD_Hist    BB_Upper  \\\n",
      "1397   AAPL  62.914016  2.614650     2.345058   0.269592  217.418743   \n",
      "1398   AAPL  63.143004  2.609528     2.397952   0.211576  216.994733   \n",
      "1399   AAPL  63.486928  2.589338     2.436230   0.153109  216.071436   \n",
      "1400   AAPL  54.526394  2.322245     2.413433  -0.091187  215.477176   \n",
      "1401   AAPL  48.624420  1.909426     2.312631  -0.403205  215.333020   \n",
      "\n",
      "       BB_Middle    BB_Lower        VWAP  \n",
      "1397  209.980499  202.542256  209.418968  \n",
      "1398  210.624500  204.254266  210.018678  \n",
      "1399  211.273000  206.474563  210.801769  \n",
      "1400  211.578000  207.678824  211.543819  \n",
      "1401  211.639500  207.945979  211.756499  \n"
     ]
    }
   ],
   "source": [
    "# افزودن شاخص‌های فنی\n",
    "def add_selected_indicators(df):\n",
    "    # Ensure numeric data types\n",
    "    numeric_cols = ['Open', 'High', 'Low', 'Close', 'Volume']\n",
    "    df[numeric_cols] = df[numeric_cols].apply(pd.to_numeric, errors='coerce')\n",
    "    \n",
    "    # RSI (14-period)\n",
    "    df['RSI'] = RSIIndicator(close=df['Close'], window=14).rsi()\n",
    "    \n",
    "    # MACD (12, 26, 9)\n",
    "    macd = MACD(close=df['Close'], window_slow=26, window_fast=12, window_sign=9)\n",
    "    df['MACD'] = macd.macd()\n",
    "    df['MACD_Signal'] = macd.macd_signal()\n",
    "    df['MACD_Hist'] = macd.macd_diff()  # Histogram (MACD - Signal)\n",
    "    \n",
    "    # Bollinger Bands (20-period, 2 std)\n",
    "    bb = BollingerBands(close=df['Close'], window=20, window_dev=2)\n",
    "    df['BB_Upper'] = bb.bollinger_hband()  # Upper Band\n",
    "    df['BB_Middle'] = bb.bollinger_mavg()   # Middle Band (SMA)\n",
    "    df['BB_Lower'] = bb.bollinger_lband()   # Lower Band\n",
    "    \n",
    "    # Volume Moving Average (20-period VWAP)\n",
    "    df['VWAP'] = VolumeWeightedAveragePrice(\n",
    "        high=df['High'],\n",
    "        low=df['Low'],\n",
    "        close=df['Close'],\n",
    "        volume=df['Volume'],\n",
    "        window=20\n",
    "    ).volume_weighted_average_price()\n",
    "    \n",
    "    return df\n",
    "\n",
    "# Apply to each ticker\n",
    "for ticker in tickers:\n",
    "    price_data[ticker] = add_selected_indicators(price_data[ticker])\n",
    "\n",
    "# Check the result\n",
    "print(price_data['AAPL'].tail())"
   ]
  },
  {
   "cell_type": "code",
   "execution_count": 48,
   "id": "7961b0d9-f585-4da7-a040-479ff05aeb88",
   "metadata": {},
   "outputs": [],
   "source": [
    "# تولید داده‌های خبری مصنوعی\n",
    "fake_headlines = [\n",
    "    \"Apple announces new product launch\",\n",
    "    \"Market reacts to economic uncertainty\",\n",
    "    \"Tech sector sees strong growth\",\n",
    "    \"Company faces regulatory challenges\",\n",
    "    \"Strong earnings boost stock prices\"\n",
    "]\n",
    "\n",
    "def generate_fake_news(df):\n",
    "    news = []\n",
    "    for date in df['Date']:\n",
    "        k = random.randint(1, 3)\n",
    "        titles = random.sample(fake_headlines, k)\n",
    "        news.append({'Date': date, 'titles': \" [SEP] \".join(titles)})\n",
    "    return pd.DataFrame(news)\n",
    "\n",
    "news_data = {}\n",
    "for ticker in tickers:\n",
    "     news_data[ticker] = generate_fake_news(price_data[ticker])"
   ]
  },
  {
   "cell_type": "code",
   "execution_count": 49,
   "id": "3a926fc5-bdc1-4135-b637-4cc9bfab600c",
   "metadata": {},
   "outputs": [
    {
     "name": "stdout",
     "output_type": "stream",
     "text": [
      "            Date       Close        High         Low        Open    Volume  \\\n",
      "1397  2025-07-24  213.759995  215.690002  213.529999  213.899994  46022600   \n",
      "1398  2025-07-25  213.880005  215.240005  213.399994  214.699997  40268800   \n",
      "1399  2025-07-28  214.050003  214.850006  213.059998  214.029999  37858000   \n",
      "1400  2025-07-29  211.270004  214.809998  210.820007  214.179993  51411700   \n",
      "1401  2025-07-30  209.050003  212.389999  207.720001  211.899994  43797200   \n",
      "\n",
      "     ticker        RSI      MACD  MACD_Signal  MACD_Hist    BB_Upper  \\\n",
      "1397   AAPL  62.914016  2.614650     2.345058   0.269592  217.418743   \n",
      "1398   AAPL  63.143004  2.609528     2.397952   0.211576  216.994733   \n",
      "1399   AAPL  63.486928  2.589338     2.436230   0.153109  216.071436   \n",
      "1400   AAPL  54.526394  2.322245     2.413433  -0.091187  215.477176   \n",
      "1401   AAPL  48.624420  1.909426     2.312631  -0.403205  215.333020   \n",
      "\n",
      "       BB_Middle    BB_Lower        VWAP  \n",
      "1397  209.980499  202.542256  209.418968  \n",
      "1398  210.624500  204.254266  210.018678  \n",
      "1399  211.273000  206.474563  210.801769  \n",
      "1400  211.578000  207.678824  211.543819  \n",
      "1401  211.639500  207.945979  211.756499  \n",
      "            Date                                             titles\n",
      "1396  2025-07-24  Strong earnings boost stock prices [SEP] Marke...\n",
      "1397  2025-07-25  Company faces regulatory challenges [SEP] Tech...\n",
      "1398  2025-07-28  Apple announces new product launch [SEP] Stron...\n",
      "1399  2025-07-29  Market reacts to economic uncertainty [SEP] Co...\n",
      "1400  2025-07-30                Company faces regulatory challenges\n"
     ]
    }
   ],
   "source": [
    "# showing created datas\n",
    "print(price_data['AAPL'].tail())\n",
    "print(news_data['AAPL'].tail())"
   ]
  },
  {
   "cell_type": "code",
   "execution_count": 50,
   "id": "f0982113-a966-469b-b12b-148a2bbb617c",
   "metadata": {},
   "outputs": [
    {
     "name": "stdout",
     "output_type": "stream",
     "text": [
      "            Date       Close        High         Low        Open    Volume  \\\n",
      "1396  2025-07-24  213.759995  215.690002  213.529999  213.899994  46022600   \n",
      "1397  2025-07-25  213.880005  215.240005  213.399994  214.699997  40268800   \n",
      "1398  2025-07-28  214.050003  214.850006  213.059998  214.029999  37858000   \n",
      "1399  2025-07-29  211.270004  214.809998  210.820007  214.179993  51411700   \n",
      "1400  2025-07-30  209.050003  212.389999  207.720001  211.899994  43797200   \n",
      "\n",
      "     ticker        RSI      MACD  MACD_Signal  MACD_Hist    BB_Upper  \\\n",
      "1396   AAPL  62.914016  2.614650     2.345058   0.269592  217.418743   \n",
      "1397   AAPL  63.143004  2.609528     2.397952   0.211576  216.994733   \n",
      "1398   AAPL  63.486928  2.589338     2.436230   0.153109  216.071436   \n",
      "1399   AAPL  54.526394  2.322245     2.413433  -0.091187  215.477176   \n",
      "1400   AAPL  48.624420  1.909426     2.312631  -0.403205  215.333020   \n",
      "\n",
      "       BB_Middle    BB_Lower        VWAP  \\\n",
      "1396  209.980499  202.542256  209.418968   \n",
      "1397  210.624500  204.254266  210.018678   \n",
      "1398  211.273000  206.474563  210.801769   \n",
      "1399  211.578000  207.678824  211.543819   \n",
      "1400  211.639500  207.945979  211.756499   \n",
      "\n",
      "                                                 titles  label  \n",
      "1396  Strong earnings boost stock prices [SEP] Marke...      1  \n",
      "1397  Company faces regulatory challenges [SEP] Tech...      1  \n",
      "1398  Apple announces new product launch [SEP] Stron...      0  \n",
      "1399  Market reacts to economic uncertainty [SEP] Co...      0  \n",
      "1400                Company faces regulatory challenges      0  \n"
     ]
    }
   ],
   "source": [
    "# یکسان سازی داده ها\n",
    "def merge_and_label(price_df, news_df):\n",
    "    # Make sure we keep all columns from price_df and only merge news titles from news_df\n",
    "    df = price_df.merge(news_df[['Date', 'titles']], on='Date', how='left')\n",
    "    df['label'] = (df['Close'].shift(-1) > df['Close']).astype(int)\n",
    "    df = df.dropna(subset=['label'])\n",
    "    return df\n",
    "\n",
    "full_data = {}\n",
    "for ticker in tickers:\n",
    "    full_data[ticker] = merge_and_label(price_data[ticker], news_data[ticker])\n",
    "\n",
    "print(full_data['AAPL'].tail())"
   ]
  },
  {
   "cell_type": "code",
   "execution_count": 52,
   "id": "df491ce0-d03c-4d00-9929-1b3d9b7095d2",
   "metadata": {},
   "outputs": [
    {
     "data": {
      "application/vnd.jupyter.widget-view+json": {
       "model_id": "f079181ade044c3e99128f13875553f5",
       "version_major": 2,
       "version_minor": 0
      },
      "text/plain": [
       "  0%|          | 0/176 [00:00<?, ?it/s]"
      ]
     },
     "metadata": {},
     "output_type": "display_data"
    }
   ],
   "source": [
    "# پردازش عناوین خبری با FinBERT\n",
    "tokenizer = AutoTokenizer.from_pretrained(\"ProsusAI/finbert\")\n",
    "bert = AutoModel.from_pretrained(\"ProsusAI/finbert\").to(device)\n",
    "\n",
    "def embed_batch(texts, batch_size=8):\n",
    "    embs = []\n",
    "    for i in tqdm(range(0, len(texts), batch_size)):\n",
    "        batch = texts[i:i+batch_size]\n",
    "        tok = tokenizer(batch, padding=True, truncation=True, max_length=64, return_tensors='pt').to(device)\n",
    "        with torch.no_grad():\n",
    "            out = bert(**tok).pooler_output\n",
    "        embs.append(out.cpu())\n",
    "    return torch.cat(embs, dim=0)\n",
    "\n",
    "# مثال برای AAPL\n",
    "aapl_texts = full_data['AAPL']['titles'].fillna(\"\").tolist()\n",
    "aapl_news_emb = embed_batch(aapl_texts)"
   ]
  },
  {
   "cell_type": "code",
   "execution_count": 56,
   "id": "658ffd63-9ee8-4a5c-946f-dd1b0597b6b3",
   "metadata": {},
   "outputs": [],
   "source": [
    "# create dataset\n",
    "class StockDataset(Dataset):\n",
    "    def __init__(self, price_df, news_emb, lookback=30):\n",
    "        self.lookback = lookback\n",
    "        price_df = price_df.sort_values('Date')\n",
    "        self.dates = price_df['Date'].values\n",
    "        num_feats = price_df.select_dtypes(include=[np.number]).drop(columns=['label']).values\n",
    "        self.scaler = StandardScaler()\n",
    "        num_feats = self.scaler.fit_transform(num_feats)\n",
    "        self.num_feats = torch.tensor(num_feats, dtype=torch.float32)\n",
    "        self.news_emb = news_emb\n",
    "        self.labels = torch.tensor(price_df['label'].values, dtype=torch.long)\n",
    "\n",
    "    def __len__(self):\n",
    "        return len(self.labels) - self.lookback\n",
    "\n",
    "    def __getitem__(self, idx):\n",
    "        x_num = self.num_feats[idx:idx+self.lookback]\n",
    "        x_news = self.news_emb[idx+self.lookback-1]\n",
    "        y = self.labels[idx+self.lookback-1]\n",
    "        return x_num, x_news, y"
   ]
  },
  {
   "cell_type": "code",
   "execution_count": 63,
   "id": "cb1153a5-47d7-4dd6-ba40-37d17b164d9f",
   "metadata": {},
   "outputs": [],
   "source": [
    "# آماده‌سازی داده‌ها\n",
    "lookback = 30\n",
    "ds = StockDataset(full_data['AAPL'], aapl_news_emb, lookback)\n",
    "train_size = int(0.8 * len(ds))\n",
    "val_size = int(0.1 * len(ds))\n",
    "test_size = len(ds) - train_size - val_size\n",
    "train_ds, val_ds, test_ds = torch.utils.data.random_split(ds, [train_size, val_size, test_size])\n",
    "train_loader = DataLoader(train_ds, batch_size=64, shuffle=True)\n",
    "val_loader = DataLoader(val_ds, batch_size=64)\n",
    "test_loader = DataLoader(test_ds, batch_size=64)"
   ]
  },
  {
   "cell_type": "code",
   "execution_count": 64,
   "id": "7ddacd46-a740-4817-a913-494765f3b148",
   "metadata": {},
   "outputs": [
    {
     "name": "stdout",
     "output_type": "stream",
     "text": [
      "Warning: Data contains NaN values!\n",
      "Data contains NaN values - need to clean your data first!\n"
     ]
    }
   ],
   "source": [
    "# 1. Data preprocessing checks:\n",
    "def check_data(loader):\n",
    "    for x_num, x_news, y in loader:\n",
    "        if torch.isnan(x_num).any() or torch.isnan(x_news).any() or torch.isnan(y).any():\n",
    "            print(\"Warning: Data contains NaN values!\")\n",
    "            return True\n",
    "    return False\n",
    "\n",
    "# Check your data before training\n",
    "if check_data(train_loader) or check_data(val_loader) or check_data(test_loader):\n",
    "    print(\"Data contains NaN values - need to clean your data first!\")\n"
   ]
  },
  {
   "cell_type": "code",
   "execution_count": 61,
   "id": "723860b2-8976-4717-a61d-cc1f073a9191",
   "metadata": {},
   "outputs": [],
   "source": [
    "class StockNet(nn.Module):\n",
    "    def __init__(self, num_price_feat, news_dim=768, hidden=128):\n",
    "        super().__init__()\n",
    "        self.lstm = nn.LSTM(num_price_feat, hidden, batch_first=True, num_layers=2, dropout=0.2)\n",
    "        self.fc_news = nn.Sequential(\n",
    "            nn.Linear(news_dim, hidden),\n",
    "            nn.ReLU(),\n",
    "            nn.Dropout(0.3)\n",
    "        )\n",
    "        self.classifier = nn.Sequential(\n",
    "            nn.Linear(hidden*2, hidden),\n",
    "            nn.ReLU(),\n",
    "            nn.Dropout(0.3),\n",
    "            nn.Linear(hidden, 2)  # دو کلاس: صعودی/نزولی\n",
    "        )\n",
    "\n",
    "    def forward(self, x_num, x_news):\n",
    "        _, (h_n, _) = self.lstm(x_num)\n",
    "        h_num = h_n[-1]  # آخرین لایه مخفی\n",
    "        h_news = self.fc_news(x_news)\n",
    "        fused = torch.cat([h_num, h_news], dim=1)\n",
    "        return self.classifier(fused)"
   ]
  },
  {
   "cell_type": "code",
   "execution_count": 62,
   "id": "18455e01-21a0-4e2b-b571-2a5d58b56063",
   "metadata": {},
   "outputs": [],
   "source": [
    "def train_one_epoch(model, loader, optimizer, criterion):\n",
    "    model.train()\n",
    "    total, correct = 0, 0\n",
    "    total_loss = 0\n",
    "    for x_num, x_news, y in loader:\n",
    "        x_num, x_news, y = x_num.to(device), x_news.to(device), y.to(device)\n",
    "        optimizer.zero_grad()\n",
    "        out = model(x_num, x_news)\n",
    "        loss = criterion(out, y)\n",
    "        loss.backward()\n",
    "        optimizer.step()\n",
    "        total_loss += loss.item()\n",
    "        preds = out.argmax(1)\n",
    "        total += y.size(0)\n",
    "        correct += (preds == y).sum().item()\n",
    "    return total_loss / len(loader), correct / total\n",
    "\n",
    "def evaluate(model, loader):\n",
    "    model.eval()\n",
    "    preds, labels = [], []\n",
    "    total_loss = 0\n",
    "    with torch.no_grad():\n",
    "        for x_num, x_news, y in loader:\n",
    "            x_num, x_news, y = x_num.to(device), x_news.to(device), y.to(device)\n",
    "            out = model(x_num, x_news)\n",
    "            total_loss += criterion(out, y).item()\n",
    "            preds.extend(out.argmax(1).cpu().tolist())\n",
    "            labels.extend(y.tolist())\n",
    "    acc = sum(p == l for p, l in zip(preds, labels)) / len(labels)\n",
    "    return total_loss / len(loader), acc, preds, labels"
   ]
  },
  {
   "cell_type": "code",
   "execution_count": 65,
   "id": "6d19c19f-0955-4711-8257-d952258119f2",
   "metadata": {},
   "outputs": [
    {
     "name": "stdout",
     "output_type": "stream",
     "text": [
      "Epoch 1 | Train Loss: nan | Train Acc: 46.08% | Val Loss: nan | Val Acc: 52.55%\n",
      "Epoch 2 | Train Loss: nan | Train Acc: 46.08% | Val Loss: nan | Val Acc: 52.55%\n",
      "Epoch 3 | Train Loss: nan | Train Acc: 46.08% | Val Loss: nan | Val Acc: 52.55%\n",
      "Epoch 4 | Train Loss: nan | Train Acc: 46.08% | Val Loss: nan | Val Acc: 52.55%\n",
      "Epoch 5 | Train Loss: nan | Train Acc: 46.08% | Val Loss: nan | Val Acc: 52.55%\n",
      "Epoch 6 | Train Loss: nan | Train Acc: 46.08% | Val Loss: nan | Val Acc: 52.55%\n",
      "Epoch 7 | Train Loss: nan | Train Acc: 46.08% | Val Loss: nan | Val Acc: 52.55%\n",
      "Epoch 8 | Train Loss: nan | Train Acc: 46.08% | Val Loss: nan | Val Acc: 52.55%\n",
      "Epoch 9 | Train Loss: nan | Train Acc: 46.08% | Val Loss: nan | Val Acc: 52.55%\n",
      "Epoch 10 | Train Loss: nan | Train Acc: 46.08% | Val Loss: nan | Val Acc: 52.55%\n",
      "Epoch 11 | Train Loss: nan | Train Acc: 46.08% | Val Loss: nan | Val Acc: 52.55%\n",
      "Epoch 12 | Train Loss: nan | Train Acc: 46.08% | Val Loss: nan | Val Acc: 52.55%\n",
      "Epoch 13 | Train Loss: nan | Train Acc: 46.08% | Val Loss: nan | Val Acc: 52.55%\n",
      "Epoch 14 | Train Loss: nan | Train Acc: 46.08% | Val Loss: nan | Val Acc: 52.55%\n",
      "Epoch 15 | Train Loss: nan | Train Acc: 46.08% | Val Loss: nan | Val Acc: 52.55%\n",
      "Epoch 16 | Train Loss: nan | Train Acc: 46.08% | Val Loss: nan | Val Acc: 52.55%\n",
      "Epoch 17 | Train Loss: nan | Train Acc: 46.08% | Val Loss: nan | Val Acc: 52.55%\n",
      "Epoch 18 | Train Loss: nan | Train Acc: 46.08% | Val Loss: nan | Val Acc: 52.55%\n",
      "Epoch 19 | Train Loss: nan | Train Acc: 46.08% | Val Loss: nan | Val Acc: 52.55%\n",
      "Epoch 20 | Train Loss: nan | Train Acc: 46.08% | Val Loss: nan | Val Acc: 52.55%\n",
      "Test Loss: nan | Test Accuracy: 47.83%\n"
     ]
    }
   ],
   "source": [
    "# آموزش مدل\n",
    "model = StockNet(ds.num_feats.shape[1]).to(device)\n",
    "optimizer = optim.Adam(model.parameters(), lr=1e-3)\n",
    "criterion = nn.CrossEntropyLoss()\n",
    "\n",
    "for epoch in range(20):\n",
    "    train_loss, train_acc = train_one_epoch(model, train_loader, optimizer, criterion)\n",
    "    val_loss, val_acc, _, _ = evaluate(model, val_loader)\n",
    "    print(f\"Epoch {epoch+1} | Train Loss: {train_loss:.4f} | Train Acc: {train_acc:.2%} | Val Loss: {val_loss:.4f} | Val Acc: {val_acc:.2%}\")\n",
    "\n",
    "# ارزیابی روی داده تست\n",
    "test_loss, test_acc, preds, labels = evaluate(model, test_loader)\n",
    "print(f\"Test Loss: {test_loss:.4f} | Test Accuracy: {test_acc:.2%}\")\n",
    "\n",
    "# ذخیره مدل\n",
    "torch.save(model.state_dict(), \"stock_model.pt\")"
   ]
  },
  {
   "cell_type": "code",
   "execution_count": 66,
   "id": "0a6ab2eb-2a44-41b7-83cd-bf664b775b23",
   "metadata": {},
   "outputs": [],
   "source": [
    "# section 7"
   ]
  },
  {
   "cell_type": "code",
   "execution_count": null,
   "id": "b4963f33-2e78-4b21-83d5-18cc750bd22a",
   "metadata": {},
   "outputs": [],
   "source": []
  }
 ],
 "metadata": {
  "kernelspec": {
   "display_name": "Python 3 (ipykernel)",
   "language": "python",
   "name": "python3"
  },
  "language_info": {
   "codemirror_mode": {
    "name": "ipython",
    "version": 3
   },
   "file_extension": ".py",
   "mimetype": "text/x-python",
   "name": "python",
   "nbconvert_exporter": "python",
   "pygments_lexer": "ipython3",
   "version": "3.13.5"
  }
 },
 "nbformat": 4,
 "nbformat_minor": 5
}
